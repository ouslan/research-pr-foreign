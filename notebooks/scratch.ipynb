{
 "cells": [
  {
   "cell_type": "code",
   "execution_count": null,
   "id": "ef171cda",
   "metadata": {},
   "outputs": [],
   "source": [
    "import os\n",
    "os.chdir(\"..\")"
   ]
  },
  {
   "cell_type": "code",
   "execution_count": null,
   "id": "fd2e863f",
   "metadata": {},
   "outputs": [],
   "source": [
    "from src.data.utils import DiffReg\n",
    "import geopandas as gpd\n",
    "from shapely import wkt\n",
    "import polars as pl\n",
    "\n",
    "dr = DiffReg()"
   ]
  },
  {
   "cell_type": "code",
   "execution_count": null,
   "id": "a9ee3a14",
   "metadata": {},
   "outputs": [],
   "source": [
    "dr.usqcew_data()"
   ]
  },
  {
   "cell_type": "code",
   "execution_count": null,
   "id": "da05e5d3",
   "metadata": {},
   "outputs": [],
   "source": [
    "dr.regular_data(naics=\"72-food\", foreign=True)"
   ]
  }
 ],
 "metadata": {
  "kernelspec": {
   "display_name": ".venv",
   "language": "python",
   "name": "python3"
  },
  "language_info": {
   "codemirror_mode": {
    "name": "ipython",
    "version": 3
   },
   "file_extension": ".py",
   "mimetype": "text/x-python",
   "name": "python",
   "nbconvert_exporter": "python",
   "pygments_lexer": "ipython3",
   "version": "3.12.12"
  }
 },
 "nbformat": 4,
 "nbformat_minor": 5
}
