{
 "cells": [
  {
   "cell_type": "code",
   "execution_count": 1,
   "id": "ef171cda",
   "metadata": {},
   "outputs": [],
   "source": [
    "import os\n",
    "os.chdir(\"..\")"
   ]
  },
  {
   "cell_type": "code",
   "execution_count": 2,
   "id": "fd2e863f",
   "metadata": {},
   "outputs": [],
   "source": [
    "from src.data.utils import DiffReg\n",
    "import polars as pl\n",
    "\n",
    "dr = DiffReg()"
   ]
  },
  {
   "cell_type": "code",
   "execution_count": null,
   "id": "928fdb94",
   "metadata": {},
   "outputs": [],
   "source": [
    "master = dr.base_data()\n",
    "master"
   ]
  },
  {
   "cell_type": "code",
   "execution_count": null,
   "id": "da05e5d3",
   "metadata": {},
   "outputs": [
    {
     "ename": "TypeError",
     "evalue": "DiffReg.regular_data() missing 2 required positional arguments: 'naics' and 'foreign'",
     "output_type": "error",
     "traceback": [
      "\u001b[31m---------------------------------------------------------------------------\u001b[39m",
      "\u001b[31mTypeError\u001b[39m                                 Traceback (most recent call last)",
      "\u001b[36mCell\u001b[39m\u001b[36m \u001b[39m\u001b[32mIn[3]\u001b[39m\u001b[32m, line 1\u001b[39m\n\u001b[32m----> \u001b[39m\u001b[32m1\u001b[39m \u001b[43mdr\u001b[49m\u001b[43m.\u001b[49m\u001b[43mregular_data\u001b[49m\u001b[43m(\u001b[49m\u001b[43m)\u001b[49m\n",
      "\u001b[31mTypeError\u001b[39m: DiffReg.regular_data() missing 2 required positional arguments: 'naics' and 'foreign'"
     ]
    }
   ],
   "source": [
    "dr.regular_data(naics=\"72-food\", foreign=True)"
   ]
  },
  {
   "cell_type": "code",
   "execution_count": null,
   "id": "19607c2e",
   "metadata": {},
   "outputs": [],
   "source": [
    "df = master\n",
    "df = df.with_columns(\n",
    "    total_qtr_employment=(pl.col(\"first_month_employment\") + pl.col(\"second_month_employment\") + pl.col(\"third_month_employment\"))\n",
    ")\n",
    "df.with_columns(\n",
    "    avg_wkly_wage=pl.col(\"total_wages\")/(pl.col(\"total_qtr_employment\") * 13)\n",
    "    )    "
   ]
  },
  {
   "cell_type": "code",
   "execution_count": null,
   "id": "5a062ff6",
   "metadata": {},
   "outputs": [],
   "source": [
    "dr.spatial_data()"
   ]
  }
 ],
 "metadata": {
  "kernelspec": {
   "display_name": ".venv",
   "language": "python",
   "name": "python3"
  },
  "language_info": {
   "codemirror_mode": {
    "name": "ipython",
    "version": 3
   },
   "file_extension": ".py",
   "mimetype": "text/x-python",
   "name": "python",
   "nbconvert_exporter": "python",
   "pygments_lexer": "ipython3",
   "version": "3.12.12"
  }
 },
 "nbformat": 4,
 "nbformat_minor": 5
}
